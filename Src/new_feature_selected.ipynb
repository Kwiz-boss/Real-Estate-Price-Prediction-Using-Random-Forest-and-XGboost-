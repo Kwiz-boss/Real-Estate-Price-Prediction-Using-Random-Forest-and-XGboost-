{
 "cells": [
  {
   "cell_type": "code",
   "execution_count": 11,
   "metadata": {},
   "outputs": [],
   "source": [
    "# Importing necessary libraries\n",
    "import pandas as pd\n",
    "import os"
   ]
  },
  {
   "cell_type": "code",
   "execution_count": 12,
   "metadata": {},
   "outputs": [],
   "source": [
    "# Define the file paths to the train and test datasets\n",
    "train_path = \"C:/Users/enock/Downloads/data/train.csv\"\n",
    "test_path = \"C:/Users/enock/Downloads/data/test.csv\"\n"
   ]
  },
  {
   "cell_type": "code",
   "execution_count": 13,
   "metadata": {},
   "outputs": [],
   "source": [
    "# Load the datasets\n",
    "train_df = pd.read_csv(train_path)\n",
    "test_df = pd.read_csv(test_path)\n"
   ]
  },
  {
   "cell_type": "code",
   "execution_count": 14,
   "metadata": {},
   "outputs": [],
   "source": [
    "# Define the selected features to keep (excluding 'Fence' and 'Utilities')\n",
    "selected_features = [\n",
    "    \"MSZoning\", \"LotArea\", \"Street\", \"LotShape\", \"LandContour\", \n",
    "    \"Neighborhood\", \"HouseStyle\", \"OverallQual\", \"OverallCond\", \n",
    "    \"YearBuilt\", \"RoofStyle\", \"RoofMatl\", \"TotRmsAbvGrd\", \n",
    "    \"YrSold\", \"SaleCondition\", \"SalePrice\"\n",
    "]"
   ]
  },
  {
   "cell_type": "code",
   "execution_count": 15,
   "metadata": {},
   "outputs": [],
   "source": [
    "# Filter the datasets to keep only the selected features\n",
    "train_df_selected = train_df[selected_features]\n",
    "test_df_selected = test_df[[col for col in selected_features if col != \"SalePrice\"]]  # Test data does not have 'SalePrice'"
   ]
  },
  {
   "cell_type": "code",
   "execution_count": 16,
   "metadata": {},
   "outputs": [],
   "source": [
    "# Save the reduced datasets to new CSV files\n",
    "train_reduced_path = \"C:/Users/enock/Downloads/data/new_train.csv\"\n",
    "test_reduced_path = \"C:/Users/enock/Downloads/data/new_test.csv\""
   ]
  },
  {
   "cell_type": "code",
   "execution_count": 17,
   "metadata": {},
   "outputs": [],
   "source": [
    "train_df_selected.to_csv(train_reduced_path, index=False)\n",
    "test_df_selected.to_csv(test_reduced_path, index=False)"
   ]
  },
  {
   "cell_type": "code",
   "execution_count": 18,
   "metadata": {},
   "outputs": [
    {
     "name": "stdout",
     "output_type": "stream",
     "text": [
      "Reduced train dataset saved at: C:/Users/enock/Downloads/data/new_train.csv\n",
      "Reduced test dataset saved at: C:/Users/enock/Downloads/data/new_test.csv\n"
     ]
    }
   ],
   "source": [
    "print(f\"Reduced train dataset saved at: {train_reduced_path}\")\n",
    "print(f\"Reduced test dataset saved at: {test_reduced_path}\")\n"
   ]
  }
 ],
 "metadata": {
  "kernelspec": {
   "display_name": "Python 3",
   "language": "python",
   "name": "python3"
  },
  "language_info": {
   "codemirror_mode": {
    "name": "ipython",
    "version": 3
   },
   "file_extension": ".py",
   "mimetype": "text/x-python",
   "name": "python",
   "nbconvert_exporter": "python",
   "pygments_lexer": "ipython3",
   "version": "3.10.0"
  }
 },
 "nbformat": 4,
 "nbformat_minor": 2
}
